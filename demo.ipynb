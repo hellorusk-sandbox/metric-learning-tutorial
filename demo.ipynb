{
 "cells": [
  {
   "cell_type": "code",
   "execution_count": 1,
   "metadata": {},
   "outputs": [],
   "source": [
    "import os\n",
    "os.environ[\"CUDA_VISIBLE_DEVICES\"]=\"1\""
   ]
  },
  {
   "cell_type": "code",
   "execution_count": 4,
   "metadata": {},
   "outputs": [
    {
     "name": "stdout",
     "output_type": "stream",
     "text": [
      "/home/kaito_sugimoto/metric-learning-tutorial/.venv/lib/python3.8/site-packages/torchvision/datasets/mnist.py:498: UserWarning: The given NumPy array is not writeable, and PyTorch does not support non-writeable tensors. This means you can write to the underlying (supposedly non-writeable) NumPy array using the tensor. You may want to copy the array to protect its data or make it writeable before converting it to a tensor. This type of warning will be suppressed for the rest of this program. (Triggered internally at  ../torch/csrc/utils/tensor_numpy.cpp:180.)\n",
      "  return torch.from_numpy(parsed.astype(m[2], copy=False)).view(*s)\n",
      "100%|██████████████████████████████████████| 1875/1875 [00:04<00:00, 397.78it/s]\n",
      "100%|████████████████████████████████████████| 313/313 [00:01<00:00, 192.13it/s]\n",
      "Computing accuracy\n",
      "Test set accuracy (Precision@1) = 0.9551000000000001\n",
      "/home/kaito_sugimoto/metric-learning-tutorial/.venv/lib/python3.8/site-packages/sklearn/manifold/_t_sne.py:780: FutureWarning: The default initialization in TSNE will change from 'random' to 'pca' in 1.2.\n",
      "  warnings.warn(\n",
      "/home/kaito_sugimoto/metric-learning-tutorial/.venv/lib/python3.8/site-packages/sklearn/manifold/_t_sne.py:790: FutureWarning: The default learning rate in TSNE will change from 200.0 to 'auto' in 1.2.\n",
      "  warnings.warn(\n",
      "/home/kaito_sugimoto/metric-learning-tutorial/.venv/lib/python3.8/site-packages/sklearn/manifold/_t_sne.py:780: FutureWarning: The default initialization in TSNE will change from 'random' to 'pca' in 1.2.\n",
      "  warnings.warn(\n",
      "/home/kaito_sugimoto/metric-learning-tutorial/.venv/lib/python3.8/site-packages/sklearn/manifold/_t_sne.py:790: FutureWarning: The default learning rate in TSNE will change from 200.0 to 'auto' in 1.2.\n",
      "  warnings.warn(\n",
      "shape of data: torch.Size([256, 1, 28, 28])\n",
      "shape of embeddings: torch.Size([256, 128])\n",
      "shape of labels: torch.Size([256])\n",
      "Epoch 1 Iteration 0: Loss = 0.099131740629673\n",
      "shape of data: torch.Size([256, 1, 28, 28])\n",
      "shape of embeddings: torch.Size([256, 128])\n",
      "shape of labels: torch.Size([256])\n",
      "Epoch 1 Iteration 20: Loss = 0.05988973006606102\n",
      "shape of data: torch.Size([256, 1, 28, 28])\n",
      "shape of embeddings: torch.Size([256, 128])\n",
      "shape of labels: torch.Size([256])\n",
      "Epoch 1 Iteration 40: Loss = 0.05739942938089371\n",
      "shape of data: torch.Size([256, 1, 28, 28])\n",
      "shape of embeddings: torch.Size([256, 128])\n",
      "shape of labels: torch.Size([256])\n",
      "Epoch 1 Iteration 60: Loss = 0.05114857852458954\n",
      "shape of data: torch.Size([256, 1, 28, 28])\n",
      "shape of embeddings: torch.Size([256, 128])\n",
      "shape of labels: torch.Size([256])\n",
      "Epoch 1 Iteration 80: Loss = 0.050482962280511856\n",
      "shape of data: torch.Size([256, 1, 28, 28])\n",
      "shape of embeddings: torch.Size([256, 128])\n",
      "shape of labels: torch.Size([256])\n",
      "Epoch 1 Iteration 100: Loss = 0.06591205298900604\n",
      "shape of data: torch.Size([256, 1, 28, 28])\n",
      "shape of embeddings: torch.Size([256, 128])\n",
      "shape of labels: torch.Size([256])\n",
      "Epoch 1 Iteration 120: Loss = 0.04768866300582886\n",
      "shape of data: torch.Size([256, 1, 28, 28])\n",
      "shape of embeddings: torch.Size([256, 128])\n",
      "shape of labels: torch.Size([256])\n",
      "Epoch 1 Iteration 140: Loss = 0.06461641192436218\n",
      "shape of data: torch.Size([256, 1, 28, 28])\n",
      "shape of embeddings: torch.Size([256, 128])\n",
      "shape of labels: torch.Size([256])\n",
      "Epoch 1 Iteration 160: Loss = 0.0571337565779686\n",
      "shape of data: torch.Size([256, 1, 28, 28])\n",
      "shape of embeddings: torch.Size([256, 128])\n",
      "shape of labels: torch.Size([256])\n",
      "Epoch 1 Iteration 180: Loss = 0.06313350796699524\n",
      "shape of data: torch.Size([256, 1, 28, 28])\n",
      "shape of embeddings: torch.Size([256, 128])\n",
      "shape of labels: torch.Size([256])\n",
      "Epoch 1 Iteration 200: Loss = 0.06094163656234741\n",
      "shape of data: torch.Size([256, 1, 28, 28])\n",
      "shape of embeddings: torch.Size([256, 128])\n",
      "shape of labels: torch.Size([256])\n",
      "Epoch 1 Iteration 220: Loss = 0.04996590316295624\n",
      "100%|██████████████████████████████████████| 1875/1875 [00:04<00:00, 390.53it/s]\n",
      "100%|████████████████████████████████████████| 313/313 [00:01<00:00, 163.49it/s]\n",
      "Computing accuracy\n",
      "Test set accuracy (Precision@1) = 0.9874\n",
      "/home/kaito_sugimoto/metric-learning-tutorial/.venv/lib/python3.8/site-packages/sklearn/manifold/_t_sne.py:780: FutureWarning: The default initialization in TSNE will change from 'random' to 'pca' in 1.2.\n",
      "  warnings.warn(\n",
      "/home/kaito_sugimoto/metric-learning-tutorial/.venv/lib/python3.8/site-packages/sklearn/manifold/_t_sne.py:790: FutureWarning: The default learning rate in TSNE will change from 200.0 to 'auto' in 1.2.\n",
      "  warnings.warn(\n",
      "/home/kaito_sugimoto/metric-learning-tutorial/.venv/lib/python3.8/site-packages/sklearn/manifold/_t_sne.py:780: FutureWarning: The default initialization in TSNE will change from 'random' to 'pca' in 1.2.\n",
      "  warnings.warn(\n",
      "/home/kaito_sugimoto/metric-learning-tutorial/.venv/lib/python3.8/site-packages/sklearn/manifold/_t_sne.py:790: FutureWarning: The default learning rate in TSNE will change from 200.0 to 'auto' in 1.2.\n",
      "  warnings.warn(\n"
     ]
    }
   ],
   "source": [
    "!python TripletMarginLossMNIST.py"
   ]
  },
  {
   "cell_type": "code",
   "execution_count": null,
   "metadata": {},
   "outputs": [],
   "source": []
  }
 ],
 "metadata": {
  "interpreter": {
   "hash": "91a0fb615d0515a850e8becae2ae64f6d29137e40cbc27cf89cb16976046b21e"
  },
  "kernelspec": {
   "display_name": "Python 3.8.0 64-bit ('.venv': poetry)",
   "name": "python3"
  },
  "language_info": {
   "codemirror_mode": {
    "name": "ipython",
    "version": 3
   },
   "file_extension": ".py",
   "mimetype": "text/x-python",
   "name": "python",
   "nbconvert_exporter": "python",
   "pygments_lexer": "ipython3",
   "version": "3.8.0"
  },
  "orig_nbformat": 4
 },
 "nbformat": 4,
 "nbformat_minor": 2
}
