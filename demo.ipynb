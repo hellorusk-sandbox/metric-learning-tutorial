{
 "cells": [
  {
   "cell_type": "code",
   "execution_count": 1,
   "metadata": {},
   "outputs": [],
   "source": [
    "import os\n",
    "os.environ[\"CUDA_VISIBLE_DEVICES\"]=\"1\""
   ]
  },
  {
   "cell_type": "code",
   "execution_count": 17,
   "metadata": {},
   "outputs": [
    {
     "name": "stdout",
     "output_type": "stream",
     "text": [
      "tensor([[    2,  2340, 19693,  ...,     9,     6,     3],\n",
      "        [    2,  4443,  2568,  ...,    64,     6,     3],\n",
      "        [    2,    36,  1953,  ...,  1964,    13,     3],\n",
      "        ...,\n",
      "        [    2, 10143,    12,  ...,  5465,     5,     3],\n",
      "        [    2, 17057,     5,  ...,     5,     9,     3],\n",
      "        [    2,    36,   306,  ...,   680,  2992,     3]])\n",
      "tensor([0, 0, 0, 0, 0, 0, 0, 0], dtype=torch.int8)\n",
      "Traceback (most recent call last):\n",
      "  File \"TripletMarginLossLivedoor.py\", line 113, in <module>\n",
      "    train_dataset, test_dataset = make_datasets(model_name)\n",
      "  File \"TripletMarginLossLivedoor.py\", line 101, in make_datasets\n",
      "    return train_dataset, test_dataset\n",
      "NameError: name 'train_dataset' is not defined\n"
     ]
    }
   ],
   "source": [
    "!python TripletMarginLossLivedoor.py"
   ]
  },
  {
   "cell_type": "code",
   "execution_count": null,
   "metadata": {},
   "outputs": [],
   "source": []
  }
 ],
 "metadata": {
  "interpreter": {
   "hash": "c93a1d5b2327598c387307c05c0b50ce621da4400048ca4c29d6418c6797c39d"
  },
  "kernelspec": {
   "display_name": "Python 3.8.0 64-bit ('.venv': poetry)",
   "name": "python3"
  },
  "language_info": {
   "codemirror_mode": {
    "name": "ipython",
    "version": 3
   },
   "file_extension": ".py",
   "mimetype": "text/x-python",
   "name": "python",
   "nbconvert_exporter": "python",
   "pygments_lexer": "ipython3",
   "version": "3.8.0"
  },
  "orig_nbformat": 4
 },
 "nbformat": 4,
 "nbformat_minor": 2
}
