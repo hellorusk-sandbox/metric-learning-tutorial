{
 "cells": [
  {
   "cell_type": "code",
   "execution_count": 1,
   "metadata": {},
   "outputs": [
    {
     "name": "stdout",
     "output_type": "stream",
     "text": [
      "/home/kaito_sugimoto/metric-learning-tutorial/.venv/lib/python3.8/site-packages/torchvision/datasets/mnist.py:498: UserWarning: The given NumPy array is not writeable, and PyTorch does not support non-writeable tensors. This means you can write to the underlying (supposedly non-writeable) NumPy array using the tensor. You may want to copy the array to protect its data or make it writeable before converting it to a tensor. This type of warning will be suppressed for the rest of this program. (Triggered internally at  /pytorch/torch/csrc/utils/tensor_numpy.cpp:180.)\n",
      "  return torch.from_numpy(parsed.astype(m[2], copy=False)).view(*s)\n",
      "/home/kaito_sugimoto/metric-learning-tutorial/.venv/lib/python3.8/site-packages/torch/nn/functional.py:718: UserWarning: Named tensors and all their associated APIs are an experimental feature and subject to change. Please do not use them for anything important until they are released as stable. (Triggered internally at  /pytorch/c10/core/TensorImpl.h:1156.)\n",
      "  return torch.max_pool2d(input, kernel_size, stride, padding, dilation, ceil_mode)\n",
      "shape of data: torch.Size([256, 1, 28, 28])\n",
      "shape of embeddings: torch.Size([256, 128])\n",
      "shape of labels: torch.Size([256])\n",
      "Epoch 1 Iteration 0: Loss = 0.0976550430059433\n",
      "shape of data: torch.Size([256, 1, 28, 28])\n",
      "shape of embeddings: torch.Size([256, 128])\n",
      "shape of labels: torch.Size([256])\n",
      "Epoch 1 Iteration 20: Loss = 0.05120415985584259\n",
      "shape of data: torch.Size([256, 1, 28, 28])\n",
      "shape of embeddings: torch.Size([256, 128])\n",
      "shape of labels: torch.Size([256])\n",
      "Epoch 1 Iteration 40: Loss = 0.048918478190898895\n",
      "shape of data: torch.Size([256, 1, 28, 28])\n",
      "shape of embeddings: torch.Size([256, 128])\n",
      "shape of labels: torch.Size([256])\n",
      "Epoch 1 Iteration 60: Loss = 0.05279029533267021\n",
      "shape of data: torch.Size([256, 1, 28, 28])\n",
      "shape of embeddings: torch.Size([256, 128])\n",
      "shape of labels: torch.Size([256])\n",
      "Epoch 1 Iteration 80: Loss = 0.05473762005567551\n",
      "shape of data: torch.Size([256, 1, 28, 28])\n",
      "shape of embeddings: torch.Size([256, 128])\n",
      "shape of labels: torch.Size([256])\n",
      "Epoch 1 Iteration 100: Loss = 0.06431173533201218\n",
      "shape of data: torch.Size([256, 1, 28, 28])\n",
      "shape of embeddings: torch.Size([256, 128])\n",
      "shape of labels: torch.Size([256])\n",
      "Epoch 1 Iteration 120: Loss = 0.056123897433280945\n",
      "shape of data: torch.Size([256, 1, 28, 28])\n",
      "shape of embeddings: torch.Size([256, 128])\n",
      "shape of labels: torch.Size([256])\n",
      "Epoch 1 Iteration 140: Loss = 0.05890169367194176\n",
      "shape of data: torch.Size([256, 1, 28, 28])\n",
      "shape of embeddings: torch.Size([256, 128])\n",
      "shape of labels: torch.Size([256])\n",
      "Epoch 1 Iteration 160: Loss = 0.06225249543786049\n",
      "shape of data: torch.Size([256, 1, 28, 28])\n",
      "shape of embeddings: torch.Size([256, 128])\n",
      "shape of labels: torch.Size([256])\n",
      "Epoch 1 Iteration 180: Loss = 0.06748908013105392\n",
      "shape of data: torch.Size([256, 1, 28, 28])\n",
      "shape of embeddings: torch.Size([256, 128])\n",
      "shape of labels: torch.Size([256])\n",
      "Epoch 1 Iteration 200: Loss = 0.067315474152565\n",
      "shape of data: torch.Size([256, 1, 28, 28])\n",
      "shape of embeddings: torch.Size([256, 128])\n",
      "shape of labels: torch.Size([256])\n",
      "Epoch 1 Iteration 220: Loss = 0.05773567035794258\n",
      "100%|██████████████████████████████████████| 1875/1875 [00:06<00:00, 277.77it/s]\n",
      "100%|████████████████████████████████████████| 313/313 [00:02<00:00, 134.26it/s]\n",
      "Computing accuracy\n",
      "Test set accuracy (Precision@1) = 0.9869\n",
      "tensor([7, 2, 1,  ..., 4, 5, 6], device='cuda:0')\n",
      "torch.Size([10000])\n",
      "tensor([[ 0.1395,  0.0101,  0.1020,  ...,  0.0574, -0.0146, -0.0488],\n",
      "        [ 0.1519,  0.0116, -0.0252,  ...,  0.1537,  0.0193, -0.0416],\n",
      "        [ 0.1472,  0.0154,  0.1217,  ...,  0.0725,  0.0566, -0.0691],\n",
      "        ...,\n",
      "        [ 0.1604, -0.0348,  0.0502,  ...,  0.0065,  0.0137, -0.0521],\n",
      "        [ 0.1506,  0.0516,  0.0779,  ...,  0.0255, -0.0247, -0.0116],\n",
      "        [ 0.1640,  0.0789,  0.0777,  ...,  0.0433, -0.0363,  0.0064]],\n",
      "       device='cuda:0')\n",
      "torch.Size([10000, 128])\n"
     ]
    }
   ],
   "source": [
    "!python TripletMarginLossMNIST.py"
   ]
  },
  {
   "cell_type": "code",
   "execution_count": null,
   "metadata": {},
   "outputs": [],
   "source": []
  }
 ],
 "metadata": {
  "interpreter": {
   "hash": "af94e8948e0d5a373fb355d6d485f59d9d9b61ddfe2aaac14e07f592952df051"
  },
  "kernelspec": {
   "display_name": "Python 3.8.0 64-bit ('.venv': poetry)",
   "name": "python3"
  },
  "language_info": {
   "codemirror_mode": {
    "name": "ipython",
    "version": 3
   },
   "file_extension": ".py",
   "mimetype": "text/x-python",
   "name": "python",
   "nbconvert_exporter": "python",
   "pygments_lexer": "ipython3",
   "version": "3.8.0"
  },
  "orig_nbformat": 4
 },
 "nbformat": 4,
 "nbformat_minor": 2
}
